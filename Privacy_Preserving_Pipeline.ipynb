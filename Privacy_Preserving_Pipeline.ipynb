{
  "nbformat": 4,
  "nbformat_minor": 0,
  "metadata": {
    "colab": {
      "provenance": []
    },
    "kernelspec": {
      "name": "python3",
      "display_name": "Python 3"
    },
    "language_info": {
      "name": "python"
    }
  },
  "cells": [
    {
      "cell_type": "markdown",
      "source": [
        "# **Data Collection and Anonymization**"
      ],
      "metadata": {
        "id": "SDGRt9lBBerq"
      }
    },
    {
      "cell_type": "code",
      "execution_count": 1,
      "metadata": {
        "colab": {
          "base_uri": "https://localhost:8080/"
        },
        "id": "n8CYjbAD-1xX",
        "outputId": "f0112885-ebbf-431e-c57d-7bc6d070c2e8"
      },
      "outputs": [
        {
          "output_type": "stream",
          "name": "stdout",
          "text": [
            "Requirement already satisfied: tweepy in /usr/local/lib/python3.10/dist-packages (4.14.0)\n",
            "Requirement already satisfied: oauthlib<4,>=3.2.0 in /usr/local/lib/python3.10/dist-packages (from tweepy) (3.2.2)\n",
            "Requirement already satisfied: requests<3,>=2.27.0 in /usr/local/lib/python3.10/dist-packages (from tweepy) (2.32.3)\n",
            "Requirement already satisfied: requests-oauthlib<2,>=1.2.0 in /usr/local/lib/python3.10/dist-packages (from tweepy) (1.3.1)\n",
            "Requirement already satisfied: charset-normalizer<4,>=2 in /usr/local/lib/python3.10/dist-packages (from requests<3,>=2.27.0->tweepy) (3.3.2)\n",
            "Requirement already satisfied: idna<4,>=2.5 in /usr/local/lib/python3.10/dist-packages (from requests<3,>=2.27.0->tweepy) (3.7)\n",
            "Requirement already satisfied: urllib3<3,>=1.21.1 in /usr/local/lib/python3.10/dist-packages (from requests<3,>=2.27.0->tweepy) (2.0.7)\n",
            "Requirement already satisfied: certifi>=2017.4.17 in /usr/local/lib/python3.10/dist-packages (from requests<3,>=2.27.0->tweepy) (2024.7.4)\n",
            "Requirement already satisfied: tensorflow in /usr/local/lib/python3.10/dist-packages (2.14.1)\n",
            "Requirement already satisfied: absl-py>=1.0.0 in /usr/local/lib/python3.10/dist-packages (from tensorflow) (1.4.0)\n",
            "Requirement already satisfied: astunparse>=1.6.0 in /usr/local/lib/python3.10/dist-packages (from tensorflow) (1.6.3)\n",
            "Requirement already satisfied: flatbuffers>=23.5.26 in /usr/local/lib/python3.10/dist-packages (from tensorflow) (24.3.25)\n",
            "Requirement already satisfied: gast!=0.5.0,!=0.5.1,!=0.5.2,>=0.2.1 in /usr/local/lib/python3.10/dist-packages (from tensorflow) (0.6.0)\n",
            "Requirement already satisfied: google-pasta>=0.1.1 in /usr/local/lib/python3.10/dist-packages (from tensorflow) (0.2.0)\n",
            "Requirement already satisfied: h5py>=2.9.0 in /usr/local/lib/python3.10/dist-packages (from tensorflow) (3.11.0)\n",
            "Requirement already satisfied: libclang>=13.0.0 in /usr/local/lib/python3.10/dist-packages (from tensorflow) (18.1.1)\n",
            "Requirement already satisfied: ml-dtypes==0.2.0 in /usr/local/lib/python3.10/dist-packages (from tensorflow) (0.2.0)\n",
            "Requirement already satisfied: numpy<2.0.0,>=1.23.5 in /usr/local/lib/python3.10/dist-packages (from tensorflow) (1.25.2)\n",
            "Requirement already satisfied: opt-einsum>=2.3.2 in /usr/local/lib/python3.10/dist-packages (from tensorflow) (3.3.0)\n",
            "Requirement already satisfied: packaging in /usr/local/lib/python3.10/dist-packages (from tensorflow) (22.0)\n",
            "Requirement already satisfied: protobuf!=4.21.0,!=4.21.1,!=4.21.2,!=4.21.3,!=4.21.4,!=4.21.5,<5.0.0dev,>=3.20.3 in /usr/local/lib/python3.10/dist-packages (from tensorflow) (4.25.4)\n",
            "Requirement already satisfied: setuptools in /usr/local/lib/python3.10/dist-packages (from tensorflow) (71.0.4)\n",
            "Requirement already satisfied: six>=1.12.0 in /usr/local/lib/python3.10/dist-packages (from tensorflow) (1.16.0)\n",
            "Requirement already satisfied: termcolor>=1.1.0 in /usr/local/lib/python3.10/dist-packages (from tensorflow) (2.4.0)\n",
            "Requirement already satisfied: typing-extensions>=3.6.6 in /usr/local/lib/python3.10/dist-packages (from tensorflow) (4.12.2)\n",
            "Requirement already satisfied: wrapt<1.15,>=1.11.0 in /usr/local/lib/python3.10/dist-packages (from tensorflow) (1.14.1)\n",
            "Requirement already satisfied: tensorflow-io-gcs-filesystem>=0.23.1 in /usr/local/lib/python3.10/dist-packages (from tensorflow) (0.37.1)\n",
            "Requirement already satisfied: grpcio<2.0,>=1.24.3 in /usr/local/lib/python3.10/dist-packages (from tensorflow) (1.64.1)\n",
            "Requirement already satisfied: tensorboard<2.15,>=2.14 in /usr/local/lib/python3.10/dist-packages (from tensorflow) (2.14.1)\n",
            "Requirement already satisfied: tensorflow-estimator<2.15,>=2.14.0 in /usr/local/lib/python3.10/dist-packages (from tensorflow) (2.14.0)\n",
            "Requirement already satisfied: keras<2.15,>=2.14.0 in /usr/local/lib/python3.10/dist-packages (from tensorflow) (2.14.0)\n",
            "Requirement already satisfied: wheel<1.0,>=0.23.0 in /usr/local/lib/python3.10/dist-packages (from astunparse>=1.6.0->tensorflow) (0.44.0)\n",
            "Requirement already satisfied: google-auth<3,>=1.6.3 in /usr/local/lib/python3.10/dist-packages (from tensorboard<2.15,>=2.14->tensorflow) (2.27.0)\n",
            "Requirement already satisfied: google-auth-oauthlib<1.1,>=0.5 in /usr/local/lib/python3.10/dist-packages (from tensorboard<2.15,>=2.14->tensorflow) (1.0.0)\n",
            "Requirement already satisfied: markdown>=2.6.8 in /usr/local/lib/python3.10/dist-packages (from tensorboard<2.15,>=2.14->tensorflow) (3.6)\n",
            "Requirement already satisfied: requests<3,>=2.21.0 in /usr/local/lib/python3.10/dist-packages (from tensorboard<2.15,>=2.14->tensorflow) (2.32.3)\n",
            "Requirement already satisfied: tensorboard-data-server<0.8.0,>=0.7.0 in /usr/local/lib/python3.10/dist-packages (from tensorboard<2.15,>=2.14->tensorflow) (0.7.2)\n",
            "Requirement already satisfied: werkzeug>=1.0.1 in /usr/local/lib/python3.10/dist-packages (from tensorboard<2.15,>=2.14->tensorflow) (3.0.3)\n",
            "Requirement already satisfied: cachetools<6.0,>=2.0.0 in /usr/local/lib/python3.10/dist-packages (from google-auth<3,>=1.6.3->tensorboard<2.15,>=2.14->tensorflow) (5.4.0)\n",
            "Requirement already satisfied: pyasn1-modules>=0.2.1 in /usr/local/lib/python3.10/dist-packages (from google-auth<3,>=1.6.3->tensorboard<2.15,>=2.14->tensorflow) (0.4.0)\n",
            "Requirement already satisfied: rsa<5,>=3.1.4 in /usr/local/lib/python3.10/dist-packages (from google-auth<3,>=1.6.3->tensorboard<2.15,>=2.14->tensorflow) (4.9)\n",
            "Requirement already satisfied: requests-oauthlib>=0.7.0 in /usr/local/lib/python3.10/dist-packages (from google-auth-oauthlib<1.1,>=0.5->tensorboard<2.15,>=2.14->tensorflow) (1.3.1)\n",
            "Requirement already satisfied: charset-normalizer<4,>=2 in /usr/local/lib/python3.10/dist-packages (from requests<3,>=2.21.0->tensorboard<2.15,>=2.14->tensorflow) (3.3.2)\n",
            "Requirement already satisfied: idna<4,>=2.5 in /usr/local/lib/python3.10/dist-packages (from requests<3,>=2.21.0->tensorboard<2.15,>=2.14->tensorflow) (3.7)\n",
            "Requirement already satisfied: urllib3<3,>=1.21.1 in /usr/local/lib/python3.10/dist-packages (from requests<3,>=2.21.0->tensorboard<2.15,>=2.14->tensorflow) (2.0.7)\n",
            "Requirement already satisfied: certifi>=2017.4.17 in /usr/local/lib/python3.10/dist-packages (from requests<3,>=2.21.0->tensorboard<2.15,>=2.14->tensorflow) (2024.7.4)\n",
            "Requirement already satisfied: MarkupSafe>=2.1.1 in /usr/local/lib/python3.10/dist-packages (from werkzeug>=1.0.1->tensorboard<2.15,>=2.14->tensorflow) (2.1.5)\n",
            "Requirement already satisfied: pyasn1<0.7.0,>=0.4.6 in /usr/local/lib/python3.10/dist-packages (from pyasn1-modules>=0.2.1->google-auth<3,>=1.6.3->tensorboard<2.15,>=2.14->tensorflow) (0.6.0)\n",
            "Requirement already satisfied: oauthlib>=3.0.0 in /usr/local/lib/python3.10/dist-packages (from requests-oauthlib>=0.7.0->google-auth-oauthlib<1.1,>=0.5->tensorboard<2.15,>=2.14->tensorflow) (3.2.2)\n",
            "Requirement already satisfied: tensorflow_federated in /usr/local/lib/python3.10/dist-packages (0.84.0)\n",
            "Requirement already satisfied: absl-py==1.*,>=1.0 in /usr/local/lib/python3.10/dist-packages (from tensorflow_federated) (1.4.0)\n",
            "Requirement already satisfied: attrs~=23.1 in /usr/local/lib/python3.10/dist-packages (from tensorflow_federated) (23.1.0)\n",
            "Requirement already satisfied: cachetools~=5.3 in /usr/local/lib/python3.10/dist-packages (from tensorflow_federated) (5.4.0)\n",
            "Requirement already satisfied: dm-tree==0.1.8 in /usr/local/lib/python3.10/dist-packages (from tensorflow_federated) (0.1.8)\n",
            "Requirement already satisfied: dp-accounting==0.4.3 in /usr/local/lib/python3.10/dist-packages (from tensorflow_federated) (0.4.3)\n",
            "Requirement already satisfied: google-vizier==0.1.11 in /usr/local/lib/python3.10/dist-packages (from tensorflow_federated) (0.1.11)\n",
            "Requirement already satisfied: grpcio~=1.46 in /usr/local/lib/python3.10/dist-packages (from tensorflow_federated) (1.64.1)\n",
            "Requirement already satisfied: jaxlib==0.4.14 in /usr/local/lib/python3.10/dist-packages (from tensorflow_federated) (0.4.14)\n",
            "Requirement already satisfied: jax==0.4.14 in /usr/local/lib/python3.10/dist-packages (from tensorflow_federated) (0.4.14)\n",
            "Requirement already satisfied: numpy~=1.25 in /usr/local/lib/python3.10/dist-packages (from tensorflow_federated) (1.25.2)\n",
            "Requirement already satisfied: portpicker~=1.6 in /usr/local/lib/python3.10/dist-packages (from tensorflow_federated) (1.6.0)\n",
            "Requirement already satisfied: scipy~=1.9.3 in /usr/local/lib/python3.10/dist-packages (from tensorflow_federated) (1.9.3)\n",
            "Requirement already satisfied: tensorflow-model-optimization==0.7.5 in /usr/local/lib/python3.10/dist-packages (from tensorflow_federated) (0.7.5)\n",
            "Requirement already satisfied: tensorflow-privacy==0.9.0 in /usr/local/lib/python3.10/dist-packages (from tensorflow_federated) (0.9.0)\n",
            "Requirement already satisfied: tensorflow==2.14.*,>=2.14.0 in /usr/local/lib/python3.10/dist-packages (from tensorflow_federated) (2.14.1)\n",
            "Requirement already satisfied: tqdm~=4.64 in /usr/local/lib/python3.10/dist-packages (from tensorflow_federated) (4.66.5)\n",
            "Collecting typing-extensions==4.5.*,>=4.5.0 (from tensorflow_federated)\n",
            "  Using cached typing_extensions-4.5.0-py3-none-any.whl.metadata (8.5 kB)\n",
            "Requirement already satisfied: googleapis-common-protos==1.61.0 in /usr/local/lib/python3.10/dist-packages (from tensorflow_federated) (1.61.0)\n",
            "Requirement already satisfied: mpmath~=1.2 in /usr/local/lib/python3.10/dist-packages (from dp-accounting==0.4.3->tensorflow_federated) (1.3.0)\n",
            "Requirement already satisfied: protobuf>=3.6 in /usr/local/lib/python3.10/dist-packages (from google-vizier==0.1.11->tensorflow_federated) (4.25.4)\n",
            "Requirement already satisfied: grpcio-tools>=1.35.0 in /usr/local/lib/python3.10/dist-packages (from google-vizier==0.1.11->tensorflow_federated) (1.62.3)\n",
            "Requirement already satisfied: sqlalchemy<=1.4.20,>=1.4 in /usr/local/lib/python3.10/dist-packages (from google-vizier==0.1.11->tensorflow_federated) (1.4.20)\n",
            "Requirement already satisfied: ml-dtypes>=0.2.0 in /usr/local/lib/python3.10/dist-packages (from jax==0.4.14->tensorflow_federated) (0.2.0)\n",
            "Requirement already satisfied: opt-einsum in /usr/local/lib/python3.10/dist-packages (from jax==0.4.14->tensorflow_federated) (3.3.0)\n",
            "Requirement already satisfied: astunparse>=1.6.0 in /usr/local/lib/python3.10/dist-packages (from tensorflow==2.14.*,>=2.14.0->tensorflow_federated) (1.6.3)\n",
            "Requirement already satisfied: flatbuffers>=23.5.26 in /usr/local/lib/python3.10/dist-packages (from tensorflow==2.14.*,>=2.14.0->tensorflow_federated) (24.3.25)\n",
            "Requirement already satisfied: gast!=0.5.0,!=0.5.1,!=0.5.2,>=0.2.1 in /usr/local/lib/python3.10/dist-packages (from tensorflow==2.14.*,>=2.14.0->tensorflow_federated) (0.6.0)\n",
            "Requirement already satisfied: google-pasta>=0.1.1 in /usr/local/lib/python3.10/dist-packages (from tensorflow==2.14.*,>=2.14.0->tensorflow_federated) (0.2.0)\n",
            "Requirement already satisfied: h5py>=2.9.0 in /usr/local/lib/python3.10/dist-packages (from tensorflow==2.14.*,>=2.14.0->tensorflow_federated) (3.11.0)\n",
            "Requirement already satisfied: libclang>=13.0.0 in /usr/local/lib/python3.10/dist-packages (from tensorflow==2.14.*,>=2.14.0->tensorflow_federated) (18.1.1)\n",
            "Requirement already satisfied: packaging in /usr/local/lib/python3.10/dist-packages (from tensorflow==2.14.*,>=2.14.0->tensorflow_federated) (22.0)\n",
            "Requirement already satisfied: setuptools in /usr/local/lib/python3.10/dist-packages (from tensorflow==2.14.*,>=2.14.0->tensorflow_federated) (71.0.4)\n",
            "Requirement already satisfied: six>=1.12.0 in /usr/local/lib/python3.10/dist-packages (from tensorflow==2.14.*,>=2.14.0->tensorflow_federated) (1.16.0)\n",
            "Requirement already satisfied: termcolor>=1.1.0 in /usr/local/lib/python3.10/dist-packages (from tensorflow==2.14.*,>=2.14.0->tensorflow_federated) (2.4.0)\n",
            "Requirement already satisfied: wrapt<1.15,>=1.11.0 in /usr/local/lib/python3.10/dist-packages (from tensorflow==2.14.*,>=2.14.0->tensorflow_federated) (1.14.1)\n",
            "Requirement already satisfied: tensorflow-io-gcs-filesystem>=0.23.1 in /usr/local/lib/python3.10/dist-packages (from tensorflow==2.14.*,>=2.14.0->tensorflow_federated) (0.37.1)\n",
            "Requirement already satisfied: tensorboard<2.15,>=2.14 in /usr/local/lib/python3.10/dist-packages (from tensorflow==2.14.*,>=2.14.0->tensorflow_federated) (2.14.1)\n",
            "Requirement already satisfied: tensorflow-estimator<2.15,>=2.14.0 in /usr/local/lib/python3.10/dist-packages (from tensorflow==2.14.*,>=2.14.0->tensorflow_federated) (2.14.0)\n",
            "Requirement already satisfied: keras<2.15,>=2.14.0 in /usr/local/lib/python3.10/dist-packages (from tensorflow==2.14.*,>=2.14.0->tensorflow_federated) (2.14.0)\n",
            "Requirement already satisfied: scikit-learn==1.*,>=1.0 in /usr/local/lib/python3.10/dist-packages (from tensorflow-privacy==0.9.0->tensorflow_federated) (1.3.2)\n",
            "Requirement already satisfied: tensorflow-probability~=0.22.0 in /usr/local/lib/python3.10/dist-packages (from tensorflow-privacy==0.9.0->tensorflow_federated) (0.22.1)\n",
            "Requirement already satisfied: joblib>=1.1.1 in /usr/local/lib/python3.10/dist-packages (from scikit-learn==1.*,>=1.0->tensorflow-privacy==0.9.0->tensorflow_federated) (1.4.2)\n",
            "Requirement already satisfied: threadpoolctl>=2.0.0 in /usr/local/lib/python3.10/dist-packages (from scikit-learn==1.*,>=1.0->tensorflow-privacy==0.9.0->tensorflow_federated) (3.5.0)\n",
            "Requirement already satisfied: psutil in /usr/local/lib/python3.10/dist-packages (from portpicker~=1.6->tensorflow_federated) (5.9.5)\n",
            "Requirement already satisfied: wheel<1.0,>=0.23.0 in /usr/local/lib/python3.10/dist-packages (from astunparse>=1.6.0->tensorflow==2.14.*,>=2.14.0->tensorflow_federated) (0.44.0)\n",
            "Requirement already satisfied: greenlet!=0.4.17 in /usr/local/lib/python3.10/dist-packages (from sqlalchemy<=1.4.20,>=1.4->google-vizier==0.1.11->tensorflow_federated) (3.0.3)\n",
            "Requirement already satisfied: google-auth<3,>=1.6.3 in /usr/local/lib/python3.10/dist-packages (from tensorboard<2.15,>=2.14->tensorflow==2.14.*,>=2.14.0->tensorflow_federated) (2.27.0)\n",
            "Requirement already satisfied: google-auth-oauthlib<1.1,>=0.5 in /usr/local/lib/python3.10/dist-packages (from tensorboard<2.15,>=2.14->tensorflow==2.14.*,>=2.14.0->tensorflow_federated) (1.0.0)\n",
            "Requirement already satisfied: markdown>=2.6.8 in /usr/local/lib/python3.10/dist-packages (from tensorboard<2.15,>=2.14->tensorflow==2.14.*,>=2.14.0->tensorflow_federated) (3.6)\n",
            "Requirement already satisfied: requests<3,>=2.21.0 in /usr/local/lib/python3.10/dist-packages (from tensorboard<2.15,>=2.14->tensorflow==2.14.*,>=2.14.0->tensorflow_federated) (2.32.3)\n",
            "Requirement already satisfied: tensorboard-data-server<0.8.0,>=0.7.0 in /usr/local/lib/python3.10/dist-packages (from tensorboard<2.15,>=2.14->tensorflow==2.14.*,>=2.14.0->tensorflow_federated) (0.7.2)\n",
            "Requirement already satisfied: werkzeug>=1.0.1 in /usr/local/lib/python3.10/dist-packages (from tensorboard<2.15,>=2.14->tensorflow==2.14.*,>=2.14.0->tensorflow_federated) (3.0.3)\n",
            "Requirement already satisfied: decorator in /usr/local/lib/python3.10/dist-packages (from tensorflow-probability~=0.22.0->tensorflow-privacy==0.9.0->tensorflow_federated) (4.4.2)\n",
            "Requirement already satisfied: cloudpickle>=1.3 in /usr/local/lib/python3.10/dist-packages (from tensorflow-probability~=0.22.0->tensorflow-privacy==0.9.0->tensorflow_federated) (2.2.1)\n",
            "Requirement already satisfied: pyasn1-modules>=0.2.1 in /usr/local/lib/python3.10/dist-packages (from google-auth<3,>=1.6.3->tensorboard<2.15,>=2.14->tensorflow==2.14.*,>=2.14.0->tensorflow_federated) (0.4.0)\n",
            "Requirement already satisfied: rsa<5,>=3.1.4 in /usr/local/lib/python3.10/dist-packages (from google-auth<3,>=1.6.3->tensorboard<2.15,>=2.14->tensorflow==2.14.*,>=2.14.0->tensorflow_federated) (4.9)\n",
            "Requirement already satisfied: requests-oauthlib>=0.7.0 in /usr/local/lib/python3.10/dist-packages (from google-auth-oauthlib<1.1,>=0.5->tensorboard<2.15,>=2.14->tensorflow==2.14.*,>=2.14.0->tensorflow_federated) (1.3.1)\n",
            "Requirement already satisfied: charset-normalizer<4,>=2 in /usr/local/lib/python3.10/dist-packages (from requests<3,>=2.21.0->tensorboard<2.15,>=2.14->tensorflow==2.14.*,>=2.14.0->tensorflow_federated) (3.3.2)\n",
            "Requirement already satisfied: idna<4,>=2.5 in /usr/local/lib/python3.10/dist-packages (from requests<3,>=2.21.0->tensorboard<2.15,>=2.14->tensorflow==2.14.*,>=2.14.0->tensorflow_federated) (3.7)\n",
            "Requirement already satisfied: urllib3<3,>=1.21.1 in /usr/local/lib/python3.10/dist-packages (from requests<3,>=2.21.0->tensorboard<2.15,>=2.14->tensorflow==2.14.*,>=2.14.0->tensorflow_federated) (2.0.7)\n",
            "Requirement already satisfied: certifi>=2017.4.17 in /usr/local/lib/python3.10/dist-packages (from requests<3,>=2.21.0->tensorboard<2.15,>=2.14->tensorflow==2.14.*,>=2.14.0->tensorflow_federated) (2024.7.4)\n",
            "Requirement already satisfied: MarkupSafe>=2.1.1 in /usr/local/lib/python3.10/dist-packages (from werkzeug>=1.0.1->tensorboard<2.15,>=2.14->tensorflow==2.14.*,>=2.14.0->tensorflow_federated) (2.1.5)\n",
            "Requirement already satisfied: pyasn1<0.7.0,>=0.4.6 in /usr/local/lib/python3.10/dist-packages (from pyasn1-modules>=0.2.1->google-auth<3,>=1.6.3->tensorboard<2.15,>=2.14->tensorflow==2.14.*,>=2.14.0->tensorflow_federated) (0.6.0)\n",
            "Requirement already satisfied: oauthlib>=3.0.0 in /usr/local/lib/python3.10/dist-packages (from requests-oauthlib>=0.7.0->google-auth-oauthlib<1.1,>=0.5->tensorboard<2.15,>=2.14->tensorflow==2.14.*,>=2.14.0->tensorflow_federated) (3.2.2)\n",
            "Using cached typing_extensions-4.5.0-py3-none-any.whl (27 kB)\n",
            "Installing collected packages: typing-extensions\n",
            "  Attempting uninstall: typing-extensions\n",
            "    Found existing installation: typing_extensions 4.12.2\n",
            "    Uninstalling typing_extensions-4.12.2:\n",
            "      Successfully uninstalled typing_extensions-4.12.2\n",
            "\u001b[31mERROR: pip's dependency resolver does not currently take into account all the packages that are installed. This behaviour is the source of the following dependency conflicts.\n",
            "torch 2.3.1+cu121 requires nvidia-cublas-cu12==12.1.3.1; platform_system == \"Linux\" and platform_machine == \"x86_64\", which is not installed.\n",
            "torch 2.3.1+cu121 requires nvidia-cuda-cupti-cu12==12.1.105; platform_system == \"Linux\" and platform_machine == \"x86_64\", which is not installed.\n",
            "torch 2.3.1+cu121 requires nvidia-cuda-nvrtc-cu12==12.1.105; platform_system == \"Linux\" and platform_machine == \"x86_64\", which is not installed.\n",
            "torch 2.3.1+cu121 requires nvidia-cuda-runtime-cu12==12.1.105; platform_system == \"Linux\" and platform_machine == \"x86_64\", which is not installed.\n",
            "torch 2.3.1+cu121 requires nvidia-cudnn-cu12==8.9.2.26; platform_system == \"Linux\" and platform_machine == \"x86_64\", which is not installed.\n",
            "torch 2.3.1+cu121 requires nvidia-cufft-cu12==11.0.2.54; platform_system == \"Linux\" and platform_machine == \"x86_64\", which is not installed.\n",
            "torch 2.3.1+cu121 requires nvidia-curand-cu12==10.3.2.106; platform_system == \"Linux\" and platform_machine == \"x86_64\", which is not installed.\n",
            "torch 2.3.1+cu121 requires nvidia-cusolver-cu12==11.4.5.107; platform_system == \"Linux\" and platform_machine == \"x86_64\", which is not installed.\n",
            "torch 2.3.1+cu121 requires nvidia-cusparse-cu12==12.1.0.106; platform_system == \"Linux\" and platform_machine == \"x86_64\", which is not installed.\n",
            "torch 2.3.1+cu121 requires nvidia-nccl-cu12==2.20.5; platform_system == \"Linux\" and platform_machine == \"x86_64\", which is not installed.\n",
            "torch 2.3.1+cu121 requires nvidia-nvtx-cu12==12.1.105; platform_system == \"Linux\" and platform_machine == \"x86_64\", which is not installed.\n",
            "albucore 0.0.13 requires typing-extensions>=4.9.0, but you have typing-extensions 4.5.0 which is incompatible.\n",
            "albumentations 1.4.13 requires scipy>=1.10.0, but you have scipy 1.9.3 which is incompatible.\n",
            "albumentations 1.4.13 requires typing-extensions>=4.9.0, but you have typing-extensions 4.5.0 which is incompatible.\n",
            "chex 0.1.86 requires jax>=0.4.16, but you have jax 0.4.14 which is incompatible.\n",
            "flax 0.8.4 requires jax>=0.4.19, but you have jax 0.4.14 which is incompatible.\n",
            "orbax-checkpoint 0.5.23 requires jax>=0.4.26, but you have jax 0.4.14 which is incompatible.\n",
            "pydantic 2.8.2 requires typing-extensions>=4.6.1; python_version < \"3.13\", but you have typing-extensions 4.5.0 which is incompatible.\n",
            "pydantic-core 2.20.1 requires typing-extensions!=4.7.0,>=4.6.0, but you have typing-extensions 4.5.0 which is incompatible.\n",
            "tf-keras 2.17.0 requires tensorflow<2.18,>=2.17, but you have tensorflow 2.14.1 which is incompatible.\n",
            "torch 2.3.1+cu121 requires typing-extensions>=4.8.0, but you have typing-extensions 4.5.0 which is incompatible.\n",
            "typeguard 4.3.0 requires typing-extensions>=4.10.0, but you have typing-extensions 4.5.0 which is incompatible.\u001b[0m\u001b[31m\n",
            "\u001b[0mSuccessfully installed typing-extensions-4.5.0\n",
            "Requirement already satisfied: tensorflow_privacy in /usr/local/lib/python3.10/dist-packages (0.9.0)\n",
            "Requirement already satisfied: absl-py==1.*,>=1.0 in /usr/local/lib/python3.10/dist-packages (from tensorflow_privacy) (1.4.0)\n",
            "Requirement already satisfied: dm-tree==0.1.8 in /usr/local/lib/python3.10/dist-packages (from tensorflow_privacy) (0.1.8)\n",
            "Requirement already satisfied: dp-accounting==0.4.3 in /usr/local/lib/python3.10/dist-packages (from tensorflow_privacy) (0.4.3)\n",
            "Requirement already satisfied: numpy~=1.21 in /usr/local/lib/python3.10/dist-packages (from tensorflow_privacy) (1.25.2)\n",
            "Requirement already satisfied: packaging~=22.0 in /usr/local/lib/python3.10/dist-packages (from tensorflow_privacy) (22.0)\n",
            "Requirement already satisfied: scikit-learn==1.*,>=1.0 in /usr/local/lib/python3.10/dist-packages (from tensorflow_privacy) (1.3.2)\n",
            "Requirement already satisfied: scipy~=1.9 in /usr/local/lib/python3.10/dist-packages (from tensorflow_privacy) (1.9.3)\n",
            "Requirement already satisfied: tensorflow-estimator~=2.4 in /usr/local/lib/python3.10/dist-packages (from tensorflow_privacy) (2.14.0)\n",
            "Requirement already satisfied: tensorflow-probability~=0.22.0 in /usr/local/lib/python3.10/dist-packages (from tensorflow_privacy) (0.22.1)\n",
            "Requirement already satisfied: tensorflow~=2.4 in /usr/local/lib/python3.10/dist-packages (from tensorflow_privacy) (2.14.1)\n",
            "Requirement already satisfied: attrs>=22 in /usr/local/lib/python3.10/dist-packages (from dp-accounting==0.4.3->tensorflow_privacy) (23.1.0)\n",
            "Requirement already satisfied: mpmath~=1.2 in /usr/local/lib/python3.10/dist-packages (from dp-accounting==0.4.3->tensorflow_privacy) (1.3.0)\n",
            "Requirement already satisfied: joblib>=1.1.1 in /usr/local/lib/python3.10/dist-packages (from scikit-learn==1.*,>=1.0->tensorflow_privacy) (1.4.2)\n",
            "Requirement already satisfied: threadpoolctl>=2.0.0 in /usr/local/lib/python3.10/dist-packages (from scikit-learn==1.*,>=1.0->tensorflow_privacy) (3.5.0)\n",
            "Requirement already satisfied: astunparse>=1.6.0 in /usr/local/lib/python3.10/dist-packages (from tensorflow~=2.4->tensorflow_privacy) (1.6.3)\n",
            "Requirement already satisfied: flatbuffers>=23.5.26 in /usr/local/lib/python3.10/dist-packages (from tensorflow~=2.4->tensorflow_privacy) (24.3.25)\n",
            "Requirement already satisfied: gast!=0.5.0,!=0.5.1,!=0.5.2,>=0.2.1 in /usr/local/lib/python3.10/dist-packages (from tensorflow~=2.4->tensorflow_privacy) (0.6.0)\n",
            "Requirement already satisfied: google-pasta>=0.1.1 in /usr/local/lib/python3.10/dist-packages (from tensorflow~=2.4->tensorflow_privacy) (0.2.0)\n",
            "Requirement already satisfied: h5py>=2.9.0 in /usr/local/lib/python3.10/dist-packages (from tensorflow~=2.4->tensorflow_privacy) (3.11.0)\n",
            "Requirement already satisfied: libclang>=13.0.0 in /usr/local/lib/python3.10/dist-packages (from tensorflow~=2.4->tensorflow_privacy) (18.1.1)\n",
            "Requirement already satisfied: ml-dtypes==0.2.0 in /usr/local/lib/python3.10/dist-packages (from tensorflow~=2.4->tensorflow_privacy) (0.2.0)\n",
            "Requirement already satisfied: opt-einsum>=2.3.2 in /usr/local/lib/python3.10/dist-packages (from tensorflow~=2.4->tensorflow_privacy) (3.3.0)\n",
            "Requirement already satisfied: protobuf!=4.21.0,!=4.21.1,!=4.21.2,!=4.21.3,!=4.21.4,!=4.21.5,<5.0.0dev,>=3.20.3 in /usr/local/lib/python3.10/dist-packages (from tensorflow~=2.4->tensorflow_privacy) (4.25.4)\n",
            "Requirement already satisfied: setuptools in /usr/local/lib/python3.10/dist-packages (from tensorflow~=2.4->tensorflow_privacy) (71.0.4)\n",
            "Requirement already satisfied: six>=1.12.0 in /usr/local/lib/python3.10/dist-packages (from tensorflow~=2.4->tensorflow_privacy) (1.16.0)\n",
            "Requirement already satisfied: termcolor>=1.1.0 in /usr/local/lib/python3.10/dist-packages (from tensorflow~=2.4->tensorflow_privacy) (2.4.0)\n",
            "Requirement already satisfied: typing-extensions>=3.6.6 in /usr/local/lib/python3.10/dist-packages (from tensorflow~=2.4->tensorflow_privacy) (4.5.0)\n",
            "Requirement already satisfied: wrapt<1.15,>=1.11.0 in /usr/local/lib/python3.10/dist-packages (from tensorflow~=2.4->tensorflow_privacy) (1.14.1)\n",
            "Requirement already satisfied: tensorflow-io-gcs-filesystem>=0.23.1 in /usr/local/lib/python3.10/dist-packages (from tensorflow~=2.4->tensorflow_privacy) (0.37.1)\n",
            "Requirement already satisfied: grpcio<2.0,>=1.24.3 in /usr/local/lib/python3.10/dist-packages (from tensorflow~=2.4->tensorflow_privacy) (1.64.1)\n",
            "Requirement already satisfied: tensorboard<2.15,>=2.14 in /usr/local/lib/python3.10/dist-packages (from tensorflow~=2.4->tensorflow_privacy) (2.14.1)\n",
            "Requirement already satisfied: keras<2.15,>=2.14.0 in /usr/local/lib/python3.10/dist-packages (from tensorflow~=2.4->tensorflow_privacy) (2.14.0)\n",
            "Requirement already satisfied: decorator in /usr/local/lib/python3.10/dist-packages (from tensorflow-probability~=0.22.0->tensorflow_privacy) (4.4.2)\n",
            "Requirement already satisfied: cloudpickle>=1.3 in /usr/local/lib/python3.10/dist-packages (from tensorflow-probability~=0.22.0->tensorflow_privacy) (2.2.1)\n",
            "Requirement already satisfied: wheel<1.0,>=0.23.0 in /usr/local/lib/python3.10/dist-packages (from astunparse>=1.6.0->tensorflow~=2.4->tensorflow_privacy) (0.44.0)\n",
            "Requirement already satisfied: google-auth<3,>=1.6.3 in /usr/local/lib/python3.10/dist-packages (from tensorboard<2.15,>=2.14->tensorflow~=2.4->tensorflow_privacy) (2.27.0)\n",
            "Requirement already satisfied: google-auth-oauthlib<1.1,>=0.5 in /usr/local/lib/python3.10/dist-packages (from tensorboard<2.15,>=2.14->tensorflow~=2.4->tensorflow_privacy) (1.0.0)\n",
            "Requirement already satisfied: markdown>=2.6.8 in /usr/local/lib/python3.10/dist-packages (from tensorboard<2.15,>=2.14->tensorflow~=2.4->tensorflow_privacy) (3.6)\n",
            "Requirement already satisfied: requests<3,>=2.21.0 in /usr/local/lib/python3.10/dist-packages (from tensorboard<2.15,>=2.14->tensorflow~=2.4->tensorflow_privacy) (2.32.3)\n",
            "Requirement already satisfied: tensorboard-data-server<0.8.0,>=0.7.0 in /usr/local/lib/python3.10/dist-packages (from tensorboard<2.15,>=2.14->tensorflow~=2.4->tensorflow_privacy) (0.7.2)\n",
            "Requirement already satisfied: werkzeug>=1.0.1 in /usr/local/lib/python3.10/dist-packages (from tensorboard<2.15,>=2.14->tensorflow~=2.4->tensorflow_privacy) (3.0.3)\n",
            "Requirement already satisfied: cachetools<6.0,>=2.0.0 in /usr/local/lib/python3.10/dist-packages (from google-auth<3,>=1.6.3->tensorboard<2.15,>=2.14->tensorflow~=2.4->tensorflow_privacy) (5.4.0)\n",
            "Requirement already satisfied: pyasn1-modules>=0.2.1 in /usr/local/lib/python3.10/dist-packages (from google-auth<3,>=1.6.3->tensorboard<2.15,>=2.14->tensorflow~=2.4->tensorflow_privacy) (0.4.0)\n",
            "Requirement already satisfied: rsa<5,>=3.1.4 in /usr/local/lib/python3.10/dist-packages (from google-auth<3,>=1.6.3->tensorboard<2.15,>=2.14->tensorflow~=2.4->tensorflow_privacy) (4.9)\n",
            "Requirement already satisfied: requests-oauthlib>=0.7.0 in /usr/local/lib/python3.10/dist-packages (from google-auth-oauthlib<1.1,>=0.5->tensorboard<2.15,>=2.14->tensorflow~=2.4->tensorflow_privacy) (1.3.1)\n",
            "Requirement already satisfied: charset-normalizer<4,>=2 in /usr/local/lib/python3.10/dist-packages (from requests<3,>=2.21.0->tensorboard<2.15,>=2.14->tensorflow~=2.4->tensorflow_privacy) (3.3.2)\n",
            "Requirement already satisfied: idna<4,>=2.5 in /usr/local/lib/python3.10/dist-packages (from requests<3,>=2.21.0->tensorboard<2.15,>=2.14->tensorflow~=2.4->tensorflow_privacy) (3.7)\n",
            "Requirement already satisfied: urllib3<3,>=1.21.1 in /usr/local/lib/python3.10/dist-packages (from requests<3,>=2.21.0->tensorboard<2.15,>=2.14->tensorflow~=2.4->tensorflow_privacy) (2.0.7)\n",
            "Requirement already satisfied: certifi>=2017.4.17 in /usr/local/lib/python3.10/dist-packages (from requests<3,>=2.21.0->tensorboard<2.15,>=2.14->tensorflow~=2.4->tensorflow_privacy) (2024.7.4)\n",
            "Requirement already satisfied: MarkupSafe>=2.1.1 in /usr/local/lib/python3.10/dist-packages (from werkzeug>=1.0.1->tensorboard<2.15,>=2.14->tensorflow~=2.4->tensorflow_privacy) (2.1.5)\n",
            "Requirement already satisfied: pyasn1<0.7.0,>=0.4.6 in /usr/local/lib/python3.10/dist-packages (from pyasn1-modules>=0.2.1->google-auth<3,>=1.6.3->tensorboard<2.15,>=2.14->tensorflow~=2.4->tensorflow_privacy) (0.6.0)\n",
            "Requirement already satisfied: oauthlib>=3.0.0 in /usr/local/lib/python3.10/dist-packages (from requests-oauthlib>=0.7.0->google-auth-oauthlib<1.1,>=0.5->tensorboard<2.15,>=2.14->tensorflow~=2.4->tensorflow_privacy) (3.2.2)\n",
            "Requirement already satisfied: phe in /usr/local/lib/python3.10/dist-packages (1.5.0)\n",
            "Requirement already satisfied: spacy in /usr/local/lib/python3.10/dist-packages (3.7.5)\n",
            "Requirement already satisfied: spacy-legacy<3.1.0,>=3.0.11 in /usr/local/lib/python3.10/dist-packages (from spacy) (3.0.12)\n",
            "Requirement already satisfied: spacy-loggers<2.0.0,>=1.0.0 in /usr/local/lib/python3.10/dist-packages (from spacy) (1.0.5)\n",
            "Requirement already satisfied: murmurhash<1.1.0,>=0.28.0 in /usr/local/lib/python3.10/dist-packages (from spacy) (1.0.10)\n",
            "Requirement already satisfied: cymem<2.1.0,>=2.0.2 in /usr/local/lib/python3.10/dist-packages (from spacy) (2.0.8)\n",
            "Requirement already satisfied: preshed<3.1.0,>=3.0.2 in /usr/local/lib/python3.10/dist-packages (from spacy) (3.0.9)\n",
            "Requirement already satisfied: thinc<8.3.0,>=8.2.2 in /usr/local/lib/python3.10/dist-packages (from spacy) (8.2.5)\n",
            "Requirement already satisfied: wasabi<1.2.0,>=0.9.1 in /usr/local/lib/python3.10/dist-packages (from spacy) (1.1.3)\n",
            "Requirement already satisfied: srsly<3.0.0,>=2.4.3 in /usr/local/lib/python3.10/dist-packages (from spacy) (2.4.8)\n",
            "Requirement already satisfied: catalogue<2.1.0,>=2.0.6 in /usr/local/lib/python3.10/dist-packages (from spacy) (2.0.10)\n",
            "Requirement already satisfied: weasel<0.5.0,>=0.1.0 in /usr/local/lib/python3.10/dist-packages (from spacy) (0.4.1)\n",
            "Requirement already satisfied: typer<1.0.0,>=0.3.0 in /usr/local/lib/python3.10/dist-packages (from spacy) (0.12.3)\n",
            "Requirement already satisfied: tqdm<5.0.0,>=4.38.0 in /usr/local/lib/python3.10/dist-packages (from spacy) (4.66.5)\n",
            "Requirement already satisfied: requests<3.0.0,>=2.13.0 in /usr/local/lib/python3.10/dist-packages (from spacy) (2.32.3)\n",
            "Requirement already satisfied: pydantic!=1.8,!=1.8.1,<3.0.0,>=1.7.4 in /usr/local/lib/python3.10/dist-packages (from spacy) (2.8.2)\n",
            "Requirement already satisfied: jinja2 in /usr/local/lib/python3.10/dist-packages (from spacy) (3.1.4)\n",
            "Requirement already satisfied: setuptools in /usr/local/lib/python3.10/dist-packages (from spacy) (71.0.4)\n",
            "Requirement already satisfied: packaging>=20.0 in /usr/local/lib/python3.10/dist-packages (from spacy) (22.0)\n",
            "Requirement already satisfied: langcodes<4.0.0,>=3.2.0 in /usr/local/lib/python3.10/dist-packages (from spacy) (3.4.0)\n",
            "Requirement already satisfied: numpy>=1.19.0 in /usr/local/lib/python3.10/dist-packages (from spacy) (1.25.2)\n",
            "Requirement already satisfied: language-data>=1.2 in /usr/local/lib/python3.10/dist-packages (from langcodes<4.0.0,>=3.2.0->spacy) (1.2.0)\n",
            "Requirement already satisfied: annotated-types>=0.4.0 in /usr/local/lib/python3.10/dist-packages (from pydantic!=1.8,!=1.8.1,<3.0.0,>=1.7.4->spacy) (0.7.0)\n",
            "Requirement already satisfied: pydantic-core==2.20.1 in /usr/local/lib/python3.10/dist-packages (from pydantic!=1.8,!=1.8.1,<3.0.0,>=1.7.4->spacy) (2.20.1)\n",
            "Collecting typing-extensions>=4.6.1 (from pydantic!=1.8,!=1.8.1,<3.0.0,>=1.7.4->spacy)\n",
            "  Using cached typing_extensions-4.12.2-py3-none-any.whl.metadata (3.0 kB)\n",
            "Requirement already satisfied: charset-normalizer<4,>=2 in /usr/local/lib/python3.10/dist-packages (from requests<3.0.0,>=2.13.0->spacy) (3.3.2)\n",
            "Requirement already satisfied: idna<4,>=2.5 in /usr/local/lib/python3.10/dist-packages (from requests<3.0.0,>=2.13.0->spacy) (3.7)\n",
            "Requirement already satisfied: urllib3<3,>=1.21.1 in /usr/local/lib/python3.10/dist-packages (from requests<3.0.0,>=2.13.0->spacy) (2.0.7)\n",
            "Requirement already satisfied: certifi>=2017.4.17 in /usr/local/lib/python3.10/dist-packages (from requests<3.0.0,>=2.13.0->spacy) (2024.7.4)\n",
            "Requirement already satisfied: blis<0.8.0,>=0.7.8 in /usr/local/lib/python3.10/dist-packages (from thinc<8.3.0,>=8.2.2->spacy) (0.7.11)\n",
            "Requirement already satisfied: confection<1.0.0,>=0.0.1 in /usr/local/lib/python3.10/dist-packages (from thinc<8.3.0,>=8.2.2->spacy) (0.1.5)\n",
            "Requirement already satisfied: click>=8.0.0 in /usr/local/lib/python3.10/dist-packages (from typer<1.0.0,>=0.3.0->spacy) (8.1.7)\n",
            "Requirement already satisfied: shellingham>=1.3.0 in /usr/local/lib/python3.10/dist-packages (from typer<1.0.0,>=0.3.0->spacy) (1.5.4)\n",
            "Requirement already satisfied: rich>=10.11.0 in /usr/local/lib/python3.10/dist-packages (from typer<1.0.0,>=0.3.0->spacy) (13.7.1)\n",
            "Requirement already satisfied: cloudpathlib<1.0.0,>=0.7.0 in /usr/local/lib/python3.10/dist-packages (from weasel<0.5.0,>=0.1.0->spacy) (0.18.1)\n",
            "Requirement already satisfied: smart-open<8.0.0,>=5.2.1 in /usr/local/lib/python3.10/dist-packages (from weasel<0.5.0,>=0.1.0->spacy) (7.0.4)\n",
            "Requirement already satisfied: MarkupSafe>=2.0 in /usr/local/lib/python3.10/dist-packages (from jinja2->spacy) (2.1.5)\n",
            "Requirement already satisfied: marisa-trie>=0.7.7 in /usr/local/lib/python3.10/dist-packages (from language-data>=1.2->langcodes<4.0.0,>=3.2.0->spacy) (1.2.0)\n",
            "Requirement already satisfied: markdown-it-py>=2.2.0 in /usr/local/lib/python3.10/dist-packages (from rich>=10.11.0->typer<1.0.0,>=0.3.0->spacy) (3.0.0)\n",
            "Requirement already satisfied: pygments<3.0.0,>=2.13.0 in /usr/local/lib/python3.10/dist-packages (from rich>=10.11.0->typer<1.0.0,>=0.3.0->spacy) (2.16.1)\n",
            "Requirement already satisfied: wrapt in /usr/local/lib/python3.10/dist-packages (from smart-open<8.0.0,>=5.2.1->weasel<0.5.0,>=0.1.0->spacy) (1.14.1)\n",
            "Requirement already satisfied: mdurl~=0.1 in /usr/local/lib/python3.10/dist-packages (from markdown-it-py>=2.2.0->rich>=10.11.0->typer<1.0.0,>=0.3.0->spacy) (0.1.2)\n",
            "Using cached typing_extensions-4.12.2-py3-none-any.whl (37 kB)\n",
            "Installing collected packages: typing-extensions\n",
            "  Attempting uninstall: typing-extensions\n",
            "    Found existing installation: typing_extensions 4.5.0\n",
            "    Uninstalling typing_extensions-4.5.0:\n",
            "      Successfully uninstalled typing_extensions-4.5.0\n",
            "\u001b[31mERROR: pip's dependency resolver does not currently take into account all the packages that are installed. This behaviour is the source of the following dependency conflicts.\n",
            "torch 2.3.1+cu121 requires nvidia-cublas-cu12==12.1.3.1; platform_system == \"Linux\" and platform_machine == \"x86_64\", which is not installed.\n",
            "torch 2.3.1+cu121 requires nvidia-cuda-cupti-cu12==12.1.105; platform_system == \"Linux\" and platform_machine == \"x86_64\", which is not installed.\n",
            "torch 2.3.1+cu121 requires nvidia-cuda-nvrtc-cu12==12.1.105; platform_system == \"Linux\" and platform_machine == \"x86_64\", which is not installed.\n",
            "torch 2.3.1+cu121 requires nvidia-cuda-runtime-cu12==12.1.105; platform_system == \"Linux\" and platform_machine == \"x86_64\", which is not installed.\n",
            "torch 2.3.1+cu121 requires nvidia-cudnn-cu12==8.9.2.26; platform_system == \"Linux\" and platform_machine == \"x86_64\", which is not installed.\n",
            "torch 2.3.1+cu121 requires nvidia-cufft-cu12==11.0.2.54; platform_system == \"Linux\" and platform_machine == \"x86_64\", which is not installed.\n",
            "torch 2.3.1+cu121 requires nvidia-curand-cu12==10.3.2.106; platform_system == \"Linux\" and platform_machine == \"x86_64\", which is not installed.\n",
            "torch 2.3.1+cu121 requires nvidia-cusolver-cu12==11.4.5.107; platform_system == \"Linux\" and platform_machine == \"x86_64\", which is not installed.\n",
            "torch 2.3.1+cu121 requires nvidia-cusparse-cu12==12.1.0.106; platform_system == \"Linux\" and platform_machine == \"x86_64\", which is not installed.\n",
            "torch 2.3.1+cu121 requires nvidia-nccl-cu12==2.20.5; platform_system == \"Linux\" and platform_machine == \"x86_64\", which is not installed.\n",
            "torch 2.3.1+cu121 requires nvidia-nvtx-cu12==12.1.105; platform_system == \"Linux\" and platform_machine == \"x86_64\", which is not installed.\n",
            "albumentations 1.4.13 requires scipy>=1.10.0, but you have scipy 1.9.3 which is incompatible.\n",
            "chex 0.1.86 requires jax>=0.4.16, but you have jax 0.4.14 which is incompatible.\n",
            "flax 0.8.4 requires jax>=0.4.19, but you have jax 0.4.14 which is incompatible.\n",
            "orbax-checkpoint 0.5.23 requires jax>=0.4.26, but you have jax 0.4.14 which is incompatible.\n",
            "tensorflow-federated 0.84.0 requires typing-extensions==4.5.*,>=4.5.0, but you have typing-extensions 4.12.2 which is incompatible.\n",
            "tf-keras 2.17.0 requires tensorflow<2.18,>=2.17, but you have tensorflow 2.14.1 which is incompatible.\u001b[0m\u001b[31m\n",
            "\u001b[0mSuccessfully installed typing-extensions-4.12.2\n",
            "Requirement already satisfied: diffprivlib in /usr/local/lib/python3.10/dist-packages (0.6.4)\n",
            "Requirement already satisfied: numpy>=1.21.6 in /usr/local/lib/python3.10/dist-packages (from diffprivlib) (1.25.2)\n",
            "Requirement already satisfied: scikit-learn>=0.24.2 in /usr/local/lib/python3.10/dist-packages (from diffprivlib) (1.3.2)\n",
            "Requirement already satisfied: scipy>=1.7.3 in /usr/local/lib/python3.10/dist-packages (from diffprivlib) (1.9.3)\n",
            "Requirement already satisfied: joblib>=0.16.0 in /usr/local/lib/python3.10/dist-packages (from diffprivlib) (1.4.2)\n",
            "Requirement already satisfied: setuptools>=49.0.0 in /usr/local/lib/python3.10/dist-packages (from diffprivlib) (71.0.4)\n",
            "Requirement already satisfied: threadpoolctl>=2.0.0 in /usr/local/lib/python3.10/dist-packages (from scikit-learn>=0.24.2->diffprivlib) (3.5.0)\n"
          ]
        }
      ],
      "source": [
        "# Install necessary libraries\n",
        "!pip install tweepy\n",
        "!pip install tensorflow\n",
        "!pip install tensorflow_federated\n",
        "!pip install tensorflow_privacy\n",
        "!pip install phe\n",
        "!pip install spacy\n",
        "!pip install diffprivlib"
      ]
    },
    {
      "cell_type": "markdown",
      "source": [
        "# **Data Collection and Anonymization**"
      ],
      "metadata": {
        "id": "72t-Qkii736b"
      }
    },
    {
      "cell_type": "code",
      "source": [
        "import re\n",
        "import spacy\n",
        "import tweepy\n",
        "import numpy as np\n",
        "import pandas as pd\n",
        "import phe as paillier\n",
        "import tensorflow as tf\n",
        "from scipy import sparse\n",
        "import matplotlib.pyplot as plt\n",
        "import tensorflow_privacy as tfp\n",
        "import tensorflow_federated as tff\n",
        "from sklearn.metrics import accuracy_score\n",
        "from sklearn.linear_model import SGDClassifier\n",
        "from sklearn.preprocessing import StandardScaler\n",
        "from diffprivlib.models import LogisticRegression\n",
        "from sklearn.ensemble import RandomForestClassifier\n",
        "from sklearn.model_selection import train_test_split\n",
        "from sklearn.feature_extraction.text import CountVectorizer\n",
        "from sklearn.metrics import accuracy_score, classification_report, roc_curve, auc\n",
        "from tensorflow_privacy.privacy.optimizers.dp_optimizer_keras import DPKerasSGDOptimizer"
      ],
      "metadata": {
        "id": "EgTpYA92_ZCJ"
      },
      "execution_count": 2,
      "outputs": []
    },
    {
      "cell_type": "markdown",
      "source": [
        "##### Loading the Dataset."
      ],
      "metadata": {
        "id": "hmUkgq7j77yM"
      }
    },
    {
      "cell_type": "code",
      "source": [
        "# Load the dataset\n",
        "data_url = \"/content/training.1600000.processed.noemoticon.csv\"\n",
        "df = pd.read_csv(data_url, encoding='latin-1', names=[\"target\", \"id\", \"date\", \"flag\", \"user\", \"text\"])\n",
        "df = df[['text', 'target']]\n",
        "df['target'] = df['target'].map({0: 0, 4: 1})"
      ],
      "metadata": {
        "id": "Jukcx8F0irjV"
      },
      "execution_count": 3,
      "outputs": []
    },
    {
      "cell_type": "markdown",
      "source": [
        "##### The function is designed to sanitize a given input text by removing potentially sensitive information, particularly user mentions and URLs, which are common in social media posts and other user-generated content. The function first checks if the input is a string; if not, it returns an empty string, ensuring it only processes valid text inputs. Using the `re` module for regular expressions, the function then identifies and replaces all user mentions (e.g., `@username`), thereby anonymizing the identities of mentioned users. Next, it removes any URLs from the text, which could contain sensitive information or lead to external sites that might compromise privacy. By performing these operations, the function aims to create a version of the text that retains its original content while protecting user privacy and preventing the sharing of potentially sensitive or identifying information. The final output is a sanitized, anonymized text that can be safely used in contexts where privacy is a concern."
      ],
      "metadata": {
        "id": "Gkbd5V9p8UYK"
      }
    },
    {
      "cell_type": "code",
      "source": [
        "# anonymize_text function\n",
        "# De-identify text\n",
        "def deidentify_text(text):\n",
        "    text = re.sub(r'@\\w+', '', text)  # Remove @mentions\n",
        "    text = re.sub(r'http\\S+', '', text)  # Remove URLs\n",
        "    text = re.sub(r'www\\S+', '', text)  # Remove URLs\n",
        "    text = re.sub(r'\\n', '', text)  # Remove newlines\n",
        "    text = re.sub(r'[^\\w\\s]', '', text)  # Remove punctuations\n",
        "    return text.strip()\n",
        "\n",
        "df['text'] = df['text'].apply(deidentify_text)\n",
        "print(df.head())"
      ],
      "metadata": {
        "id": "jY1vj_W57flq",
        "colab": {
          "base_uri": "https://localhost:8080/"
        },
        "outputId": "cf878735-86f0-42e8-cddf-e17460c829c4"
      },
      "execution_count": 4,
      "outputs": [
        {
          "output_type": "stream",
          "name": "stdout",
          "text": [
            "                                                text  target\n",
            "0  A thats a bummer  You shoulda got David Carr o...       0\n",
            "1  is upset that he cant update his Facebook by t...       0\n",
            "2  I dived many times for the ball Managed to sav...       0\n",
            "3     my whole body feels itchy and like its on fire       0\n",
            "4  no its not behaving at all im mad why am i her...       0\n"
          ]
        }
      ]
    },
    {
      "cell_type": "markdown",
      "source": [
        "# **Differential Privacy for Text Data**"
      ],
      "metadata": {
        "id": "573cCWjyBvtj"
      }
    },
    {
      "cell_type": "markdown",
      "source": [
        "##### Text data is converted into a numerical format suitable for model training. The `CountVectorizer` transforms the text data into a matrix of token counts, which represents the frequency of each word in the dataset. The parameter `stop_words='english'` instructs the vectorizer to ignore common English stop words (e.g., 'the', 'is', 'at', 'which', 'on'), which typically do not contribute meaningful information for the classification task. The `fit_transform()` method is then applied to the 'text' column of the dataframe `df`, which performs two operations: it learns the vocabulary dictionary of all tokens in the raw text data (fitting) and then transforms the text data into a sparse matrix `X`, where each row corresponds to a document (tweet), and each column corresponds to a token. The values in this matrix indicate the count of each token in the document. Additionally, the target values, which indicate the sentiment of the text, are extracted into the array `y`."
      ],
      "metadata": {
        "id": "890B28oK8xAz"
      }
    },
    {
      "cell_type": "code",
      "source": [
        "# Vectorize the text data\n",
        "vectorizer = CountVectorizer(stop_words='english')\n",
        "X = vectorizer.fit_transform(df['text'])\n",
        "y = df['target'].values"
      ],
      "metadata": {
        "id": "tChPYKukT3Cv"
      },
      "execution_count": 5,
      "outputs": []
    },
    {
      "cell_type": "markdown",
      "source": [
        "##### Adds differential privacy noise to the text data by controlling two key parameters: epsilon and sensitivity. **Epsilon**, set to 1.0, represents the privacy budget, balancing the trade-off between privacy and model accuracy. A lower epsilon value would provide more privacy but reduce accuracy, while a higher value would do the opposite. **Sensitivity**, also set to 1.0, indicates the maximum impact that a single data point can have on the output, such as the word count in this case. Together, these parameters govern the introduction of Laplace noise to the data, ensuring individual privacy while still allowing the data to be used effectively in machine learning models."
      ],
      "metadata": {
        "id": "vdTAUd3t9NN4"
      }
    },
    {
      "cell_type": "code",
      "source": [
        "# Add differential privacy noise\n",
        "epsilon = 1.0  # Privacy budget\n",
        "sensitivity = 1.0  # Sensitivity of the word counts"
      ],
      "metadata": {
        "id": "LqK6-yIaT6CH"
      },
      "execution_count": 6,
      "outputs": []
    },
    {
      "cell_type": "markdown",
      "source": [
        "##### Identifying all the non-zero entries in the sparse matrix `X`, which contains the vectorized representations of text data, using `X.nonzero()`. This function returns the row and column indices (`rows` and `cols`) of the non-zero elements, thus focusing on the meaningful data points for noise addition. Laplace noise, which is commonly used in differential privacy, is then generated for each non-zero entry. The noise is centered around zero, with a spread determined by the `sensitivity` divided by the `epsilon` (privacy budget), ensuring that the noise level is sufficient to mask the contributions of any single data point. This selective addition of noise protects individual privacy while preserving the overall utility of the data for subsequent analysis and machine learning tasks."
      ],
      "metadata": {
        "id": "zptAFCP79jdK"
      }
    },
    {
      "cell_type": "code",
      "source": [
        "# Create noise only for the non-zero values in the original matrix\n",
        "rows, cols = X.nonzero()\n",
        "noise = np.random.laplace(0, sensitivity / epsilon, size=len(rows))"
      ],
      "metadata": {
        "id": "skyg3T731tCk"
      },
      "execution_count": 7,
      "outputs": []
    },
    {
      "cell_type": "markdown",
      "source": [
        "##### Transforms the generated noise into a sparse matrix format, which matches the structure of the original data matrix `X`. The `sparse.csr_matrix` function is used to create a Compressed Sparse Row (CSR) matrix, where the `noise` array provides the data, and the `rows` and `cols` arrays specify the corresponding positions in the matrix where the noise values should be placed. This ensures that noise is only added to the non-zero elements of the original matrix. Once the noise matrix is created, it is added to the original data matrix `X`, resulting in a new matrix `X_noisy` that contains both the original data and the added noise. The use of sparse matrix operations is crucial here, as it maintains computational efficiency and minimizes memory usage, which is especially important when working with large datasets. Finally, the shape of the noisy data matrix is printed to confirm that it matches the original data structure, indicating that the noise addition process has been successfully completed."
      ],
      "metadata": {
        "id": "1GcEv5o1-QDo"
      }
    },
    {
      "cell_type": "code",
      "source": [
        "# Create a sparse matrix from the noise\n",
        "noise_matrix = sparse.csr_matrix((noise, (rows, cols)), shape=X.shape)\n",
        "\n",
        "# Add the noise to the original sparse matrix\n",
        "X_noisy = X + noise_matrix\n",
        "\n",
        "print(\"Shape of noisy data:\", X_noisy.shape)"
      ],
      "metadata": {
        "colab": {
          "base_uri": "https://localhost:8080/"
        },
        "id": "wCbLK6_J2x3t",
        "outputId": "34cb4544-b272-4e3b-86b9-c36e59bf7fd3"
      },
      "execution_count": 8,
      "outputs": [
        {
          "output_type": "stream",
          "name": "stdout",
          "text": [
            "Shape of noisy data: (1600000, 447887)\n"
          ]
        }
      ]
    },
    {
      "cell_type": "markdown",
      "source": [
        "# **Adversarial Model & Evaluation**"
      ],
      "metadata": {
        "id": "AOVP1qtKErof"
      }
    },
    {
      "cell_type": "markdown",
      "source": [
        "##### Splitting the datasset into training and test set."
      ],
      "metadata": {
        "id": "xHLnLEfHBWUf"
      }
    },
    {
      "cell_type": "code",
      "source": [
        "# Split data into training and test sets\n",
        "X_train, X_test, y_train, y_test = train_test_split(X, y, test_size=0.25)"
      ],
      "metadata": {
        "id": "sWgh7lzCnEL7"
      },
      "execution_count": 9,
      "outputs": []
    },
    {
      "cell_type": "markdown",
      "source": [
        "##### The classifier is configured to use the `'log_loss'` function, suitable for binary classification problems, allowing the model to predict probabilities by optimizing the logistic regression loss function. The `alpha` parameter is set to `1.0 / epsilon`, where `epsilon` represents the differential privacy budget, effectively controlling the regularization strength and thus how much the model can overfit to the training data. Setting `max_iter=1` specifies that only one epoch over the training dataset will be performed, and `warm_start=True` enables the model to continue training from the solution of the previous call to `partial_fit`, rather than starting from scratch each time. This approach is particularly useful when training the model incrementally on chunks of data. Finally, `n_iter_no_change=1` sets the number of iterations with no improvement in the model's performance after which the training will be stopped."
      ],
      "metadata": {
        "id": "zZQoTZMqBjUd"
      }
    },
    {
      "cell_type": "code",
      "source": [
        "# Initialize the model\n",
        "clf = SGDClassifier(loss='log_loss', alpha=1.0 / epsilon, max_iter=1, warm_start=True, n_iter_no_change=1)"
      ],
      "metadata": {
        "id": "X5wDstKG3YT5"
      },
      "execution_count": 10,
      "outputs": []
    },
    {
      "cell_type": "markdown",
      "source": [
        "##### The function takes three arguments: `X`, which is the feature matrix; `y`, which is the target vector; and `chunk_size`, which defines the number of samples to be included in each chunk, with a default size of 10,000 samples. It calculates the total number of samples in the dataset using `X.shape[0]`. Then, it iterates over the dataset by creating a range from 0 to the total number of samples, advancing by `chunk_size` steps each time. For each iteration, the function calculates the `end` index as the minimum of the current starting index plus the `chunk_size` and the total number of samples to ensure it doesn't exceed the dataset boundaries. The function then uses Python's `yield` keyword to return a generator that yields slices of the feature matrix `X` and the target vector `y` corresponding to the current chunk."
      ],
      "metadata": {
        "id": "yciHWM1RBw0x"
      }
    },
    {
      "cell_type": "code",
      "source": [
        "# Function to process data in chunks\n",
        "def process_in_chunks(X, y, chunk_size=10000):\n",
        "    num_samples = X.shape[0]\n",
        "    for start in range(0, num_samples, chunk_size):\n",
        "        end = min(start + chunk_size, num_samples)\n",
        "        yield X[start:end], y[start:end]"
      ],
      "metadata": {
        "id": "fgihBGnG3aS7"
      },
      "execution_count": 11,
      "outputs": []
    },
    {
      "cell_type": "markdown",
      "source": [
        "##### The `for` loop iterates over the training data in chunks, where each chunk consists of a subset of the feature matrix `X_train` and the corresponding target vector `y_train`. For each chunk, the `partial_fit` method of the `SGDClassifier` is called, which updates the model's parameters based on the current chunk of data. The `partial_fit` method is particularly useful for handling large datasets or streaming data, as it allows the model to be trained in smaller batches rather than requiring all the data to be loaded into memory at once. The `classes=np.unique(y)` parameter specifies the possible classes for the target variable, ensuring that the model is aware of all possible class labels throughout the incremental training process."
      ],
      "metadata": {
        "id": "fmCrLeT1CE5m"
      }
    },
    {
      "cell_type": "code",
      "source": [
        "# Train the model incrementally\n",
        "for X_train_chunk, y_train_chunk in process_in_chunks(X_train, y_train):\n",
        "    clf.partial_fit(X_train_chunk, y_train_chunk, classes=np.unique(y))"
      ],
      "metadata": {
        "id": "_5EyAFiRnGMZ"
      },
      "execution_count": 12,
      "outputs": []
    },
    {
      "cell_type": "markdown",
      "source": [
        "##### It takes the test feature matrix `X_test`, the test target vector `y_test`, the trained classifier `clf`, and an optional `chunk_size` parameter that defines the size of each data chunk. The function first calculates the total number of samples in the test set and initializes an empty list to store predictions. It then iterates over the test data in chunks of the specified size. For each chunk, the function extracts a subset of the test data, makes predictions using the `predict` method of the classifier, and appends these predictions to the list. Finally, it converts the list of predictions into a NumPy array and returns it."
      ],
      "metadata": {
        "id": "d5bmxEkCCOCl"
      }
    },
    {
      "cell_type": "code",
      "source": [
        "# Function to evaluate the model in chunks\n",
        "def evaluate_in_chunks(X_test, y_test, clf, chunk_size=10000):\n",
        "    num_samples = X_test.shape[0]\n",
        "    predictions = []\n",
        "    for start in range(0, num_samples, chunk_size):\n",
        "        end = min(start + chunk_size, num_samples)\n",
        "        X_test_chunk = X_test[start:end]\n",
        "        y_test_chunk = y_test[start:end]\n",
        "        y_pred_chunk = clf.predict(X_test_chunk)\n",
        "        predictions.extend(y_pred_chunk)\n",
        "    return np.array(predictions)"
      ],
      "metadata": {
        "id": "LesvgGQnnKzc"
      },
      "execution_count": 13,
      "outputs": []
    },
    {
      "cell_type": "markdown",
      "source": [
        "##### The line `y_pred = evaluate_in_chunks(X_test, y_test, clf)` passes the test feature matrix `X_test`, the test target vector `y_test`, and the trained classifier `clf` to the function. This function evaluates the model in chunks, processing manageable portions of the test data, and returns the predictions for the entire test set. The result, `y_pred`, is an array containing the predicted labels for each sample in the test dataset."
      ],
      "metadata": {
        "id": "gUkq5VQNCY-Z"
      }
    },
    {
      "cell_type": "code",
      "source": [
        "# Test set evaluation\n",
        "y_pred = evaluate_in_chunks(X_test, y_test, clf)"
      ],
      "metadata": {
        "id": "2ovJk3-B3jh2"
      },
      "execution_count": 14,
      "outputs": []
    },
    {
      "cell_type": "markdown",
      "source": [
        "##### The `accuracy_score` function from the `sklearn.metrics` module computes the proportion of correct predictions out of the total number of predictions. The result, stored in the variable `accuracy`, is then printed to the console with a formatted message showing the accuracy to four decimal places. This value indicates how well the model performed on the test set, with higher values representing better performance."
      ],
      "metadata": {
        "id": "mzAId2u5CsSh"
      }
    },
    {
      "cell_type": "code",
      "source": [
        "# Evaluate the model\n",
        "accuracy = accuracy_score(y_test, y_pred)\n",
        "print(f\"Accuracy: {accuracy:.4f}\")"
      ],
      "metadata": {
        "colab": {
          "base_uri": "https://localhost:8080/"
        },
        "id": "1NZxFXe13lsX",
        "outputId": "a8e6636b-1378-4f79-c465-8193aba9c753"
      },
      "execution_count": 15,
      "outputs": [
        {
          "output_type": "stream",
          "name": "stdout",
          "text": [
            "Accuracy: 0.5645\n"
          ]
        }
      ]
    },
    {
      "cell_type": "markdown",
      "source": [
        "##### The line `print(classification_report(y_test, y_pred))` generates and prints a detailed classification report of the model's performance on the test data. This report includes key metrics such as precision, recall, F1-score, and support for each class in the dataset.\n",
        "\n",
        "- **Precision** measures the proportion of positive identifications that were actually correct.\n",
        "- **Recall** indicates the proportion of actual positives that were correctly identified.\n",
        "- **F1-score** is the harmonic mean of precision and recall, providing a single metric that balances both aspects.\n",
        "- **Support** refers to the number of actual occurrences of the class in the test data.\n",
        "\n",
        "These metrics help evaluate the model's ability to correctly classify each class, especially in cases where the classes are imbalanced."
      ],
      "metadata": {
        "id": "6pzvwpp0C3ur"
      }
    },
    {
      "cell_type": "code",
      "source": [
        "# Classification report\n",
        "print(classification_report(y_test, y_pred))"
      ],
      "metadata": {
        "colab": {
          "base_uri": "https://localhost:8080/"
        },
        "id": "XwaIhqNr3oj5",
        "outputId": "c9139f0d-4df3-45b3-a98d-6ce1c34dbd8e"
      },
      "execution_count": 16,
      "outputs": [
        {
          "output_type": "stream",
          "name": "stdout",
          "text": [
            "              precision    recall  f1-score   support\n",
            "\n",
            "           0       0.79      0.18      0.29    200450\n",
            "           1       0.54      0.95      0.69    199550\n",
            "\n",
            "    accuracy                           0.56    400000\n",
            "   macro avg       0.66      0.57      0.49    400000\n",
            "weighted avg       0.66      0.56      0.49    400000\n",
            "\n"
          ]
        }
      ]
    },
    {
      "cell_type": "markdown",
      "source": [
        "##### The code snippet `fpr, tpr, thresholds = roc_curve(y_test, y_pred)` computes the Receiver Operating Characteristic (ROC) curve, while `roc_auc = auc(fpr, tpr)` calculates the Area Under the Curve (AUC) for this ROC curve.\n",
        "\n",
        "- **ROC Curve**: This curve plots the False Positive Rate (FPR) against the True Positive Rate (TPR) at various threshold settings. It visualizes the trade-off between sensitivity (true positive rate) and the rate of false positives as the decision threshold of the classifier is varied.\n",
        "\n",
        "- **FPR (False Positive Rate)**: This is the rate of incorrectly classifying negative samples as positive.\n",
        "\n",
        "- **TPR (True Positive Rate)**: This is the rate of correctly identifying positive samples.\n",
        "\n",
        "- **Thresholds**: These are the different values used to compute FPR and TPR.\n",
        "\n",
        "- **AUC (Area Under the Curve)**: This value quantifies the overall performance of the classifier. An AUC of 1 indicates a perfect model, while an AUC of 0.5 suggests a model with no discrimination capability (random guessing).\n",
        "\n",
        "This process helps assess the model’s performance across different thresholds, providing a comprehensive view of its capability to distinguish between positive and negative classes."
      ],
      "metadata": {
        "id": "dl5IlRAtDA-p"
      }
    },
    {
      "cell_type": "code",
      "source": [
        "# Plotting ROC Curve\n",
        "fpr, tpr, thresholds = roc_curve(y_test, y_pred)\n",
        "roc_auc = auc(fpr, tpr)"
      ],
      "metadata": {
        "id": "jGw9yvRH3q0B"
      },
      "execution_count": 17,
      "outputs": []
    },
    {
      "cell_type": "markdown",
      "source": [
        "##### The code snippet creates and displays a Receiver Operating Characteristic (ROC) curve using Matplotlib. It first initializes a new figure and plots the ROC curve by connecting the False Positive Rate (FPR) and True Positive Rate (TPR) with a dark orange line, which represents the model’s performance. A diagonal dashed line is added to indicate the performance of a random classifier, serving as a baseline for comparison. The x-axis and y-axis are set to range from 0 to 1, with the y-axis extending slightly above 1 for clarity. Labels are added to both axes and a title is set for the plot. The legend is positioned in the lower right corner, and finally, the plot is displayed, allowing for visual assessment of the model's classification performance and comparison with other models."
      ],
      "metadata": {
        "id": "ym97CzrmDXNt"
      }
    },
    {
      "cell_type": "code",
      "source": [
        "plt.figure()\n",
        "plt.plot(fpr, tpr, color='darkorange', lw=2, label='ROC curve (area = %0.2f)' % roc_auc)\n",
        "plt.plot([0, 1], [0, 1], color='navy', lw=2, linestyle='--')\n",
        "plt.xlim([0.0, 1.0])\n",
        "plt.ylim([0.0, 1.05])\n",
        "plt.xlabel('False Positive Rate')\n",
        "plt.ylabel('True Positive Rate')\n",
        "plt.title('Receiver Operating Characteristic')\n",
        "plt.legend(loc=\"lower right\")\n",
        "plt.show()"
      ],
      "metadata": {
        "colab": {
          "base_uri": "https://localhost:8080/",
          "height": 472
        },
        "id": "IPAgoiXZ3tvF",
        "outputId": "0751b650-77ef-49de-de38-0d3d7b1d89c8"
      },
      "execution_count": 18,
      "outputs": [
        {
          "output_type": "display_data",
          "data": {
            "text/plain": [
              "<Figure size 640x480 with 1 Axes>"
            ],
            "image/png": "[encoded data removed]"
          },
          "metadata": {}
        }
      ]
    },
    {
      "cell_type": "markdown",
      "source": [
        "# **Homomorphic Encryption**"
      ],
      "metadata": {
        "id": "UXBfQoIqEY3z"
      }
    },
    {
      "cell_type": "markdown",
      "source": [
        "##### Initializes a `CountVectorizer` to convert text data into numeric vectors, while excluding common stop words. The vectorizer is then fit on the entire text column to learn the vocabulary. The function iterates through the text data in chunks, where each chunk is transformed into vectors using the pre-fitted vectorizer. These vectors are collected and combined into a single sparse matrix using `sparse.vstack`, ensuring efficient memory usage. The result, stored in `df_vectorized`, is a sparse matrix representing the text data in numeric form, ready for further processing or analysis."
      ],
      "metadata": {
        "id": "jNWKqXVgJffJ"
      }
    },
    {
      "cell_type": "code",
      "source": [
        "# Vectorize text data in chunks\n",
        "def text_to_vector_in_chunks(df, chunk_size=10000):\n",
        "    vectorizer = CountVectorizer(stop_words='english')\n",
        "    vectorizer.fit(df['text'])\n",
        "\n",
        "    num_samples = len(df)\n",
        "    vectors = []\n",
        "    for start in range(0, num_samples, chunk_size):\n",
        "        end = min(start + chunk_size, num_samples)\n",
        "        chunk = df['text'][start:end]\n",
        "        chunk_vectorized = vectorizer.transform(chunk)\n",
        "        vectors.append(chunk_vectorized)\n",
        "\n",
        "    return sparse.vstack(vectors)\n",
        "\n",
        "df_vectorized = text_to_vector_in_chunks(df)"
      ],
      "metadata": {
        "id": "y8INz63_JElE"
      },
      "execution_count": 27,
      "outputs": []
    },
    {
      "cell_type": "markdown",
      "source": [
        "##### The `encrypt_data` function takes a list of data and a public key, encrypting each element using the public key's `encrypt` method, and returns the list of encrypted data. Conversely, the `decrypt_data` function takes the list of encrypted data and a private key, decrypting each element using the private key's `decrypt` method, and returns the list of decrypted data. These functions facilitate secure handling of sensitive data by ensuring it is encrypted before storage or transmission and can be decrypted back to its original form when needed."
      ],
      "metadata": {
        "id": "zSA-v-TCJo3m"
      }
    },
    {
      "cell_type": "code",
      "source": [
        "# Function to encrypt and decrypt data\n",
        "def encrypt_data(data, public_key):\n",
        "    encrypted_data = [public_key.encrypt(x) for x in data]\n",
        "    return encrypted_data\n",
        "\n",
        "def decrypt_data(encrypted_data, private_key):\n",
        "    decrypted_data = [private_key.decrypt(x) for x in encrypted_data]\n",
        "    return decrypted_data"
      ],
      "metadata": {
        "id": "ry7CclKXAN5R"
      },
      "execution_count": 28,
      "outputs": []
    },
    {
      "cell_type": "markdown",
      "source": [
        "##### The line `public_key, private_key = paillier.generate_paillier_keypair()` generates a key pair for the Paillier cryptosystem. Paillier is a type of probabilistic encryption algorithm known for its additive homomorphic properties, which allow computations to be performed on encrypted data without needing to decrypt it first. The `generate_paillier_keypair()` function creates a pair of keys: a public key and a private key. The public key is used for encrypting data, ensuring that the data is securely encoded and can only be decrypted by someone who has the corresponding private key."
      ],
      "metadata": {
        "id": "swsBmMLLJxAB"
      }
    },
    {
      "cell_type": "code",
      "source": [
        "# Generate Paillier key pair\n",
        "public_key, private_key = paillier.generate_paillier_keypair()"
      ],
      "metadata": {
        "id": "pRSTqIOxIxDL"
      },
      "execution_count": 29,
      "outputs": []
    },
    {
      "cell_type": "markdown",
      "source": [
        "##### First removes the 'text' column from `df` to retain only the non-text features. Then, it converts the sparse matrix of vectorized text data (`df_vectorized`) into a dense DataFrame using `toarray()`, which is necessary for standard DataFrame operations. Finally, `pd.concat` merges these two DataFrames along the columns (`axis=1`), combining the original features with the newly generated numerical features from the text data. This results in `df_merged`, a DataFrame that includes all the original data plus the vectorized representation of the text, facilitating further analysis or machine learning tasks."
      ],
      "metadata": {
        "id": "HubuaPStJ-kn"
      }
    },
    {
      "cell_type": "code",
      "source": [
        "# Merge the vectorized data with the original DataFrame, excluding original text\n",
        "df_merged = pd.concat([df.drop('text', axis=1), pd.DataFrame(df_vectorized.toarray())], axis=1)"
      ],
      "metadata": {
        "id": "DtWAgDSPIzL7"
      },
      "execution_count": null,
      "outputs": []
    },
    {
      "cell_type": "markdown",
      "source": [
        "##### `encrypted_data = encrypt_data(df_merged.values.flatten(), public_key)` encrypts the entire merged DataFrame `df_merged` by first flattening it into a one-dimensional array with `df_merged.values.flatten()`. This transformation ensures that all the values in the DataFrame, regardless of their original structure, are treated as a single sequence of data points. Each value in this flattened array is then encrypted using the provided `public_key` through the `encrypt_data` function. This process generates an encrypted version of the data, which is printed to verify the result. Flattening the DataFrame before encryption simplifies the handling of the data, but it loses the original structure, which might be necessary for later decryption and reconstruction."
      ],
      "metadata": {
        "id": "IGLXNDHZKIw2"
      }
    },
    {
      "cell_type": "code",
      "source": [
        "# Encrypt the entire merged DataFrame\n",
        "encrypted_data = encrypt_data(df_merged.values.flatten(), public_key)\n",
        "print('Encrypted Data:', encrypted_data)"
      ],
      "metadata": {
        "id": "uM3qKeDEI1zJ"
      },
      "execution_count": null,
      "outputs": []
    },
    {
      "cell_type": "markdown",
      "source": [
        "##### `decrypted_data = decrypt_data(encrypted_data, private_key)` decrypts the previously encrypted data using the `private_key` through the `decrypt_data` function. This function transforms each encrypted value back into its original form. After decryption, the resulting array is converted into a NumPy array and reshaped to match the original shape of `df_merged` using `reshape(df_merged.shape)`. This step is crucial to restore the original structure of the DataFrame before encryption. The final output, `decrypted_data`, is printed to verify the decryption process and ensure that the data has been accurately restored to its pre-encrypted format."
      ],
      "metadata": {
        "id": "97CMwyR7KUJk"
      }
    },
    {
      "cell_type": "code",
      "source": [
        "# Decrypt the data\n",
        "decrypted_data = decrypt_data(encrypted_data, private_key)\n",
        "decrypted_data = np.array(decrypted_data).reshape(df_merged.shape)\n",
        "print('Decrypted Data:', decrypted_data)"
      ],
      "metadata": {
        "id": "FH9gsK5PI8UG"
      },
      "execution_count": null,
      "outputs": []
    },
    {
      "cell_type": "code",
      "source": [],
      "metadata": {
        "id": "DvOBYVbWJGKz"
      },
      "execution_count": null,
      "outputs": []
    }
  ]
}